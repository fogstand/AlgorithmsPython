{
 "cells": [
  {
   "cell_type": "markdown",
   "metadata": {},
   "source": [
    "# 👨🏽‍💻Ravisher Singh\n",
    "# 👨🏽‍🏫 Algorithms"
   ]
  },
  {
   "cell_type": "markdown",
   "metadata": {},
   "source": [
    "# Problem Statement 1:"
   ]
  },
  {
   "cell_type": "markdown",
   "metadata": {},
   "source": [
    "Your program generates a random number between 1 and 1,000.  Then it applies the binary search algorithm to automatically guess the random number.   For each try, count the number of guesses to find the random number.\n",
    "Repeat the previous step for 10,000 times and sum up the total number of guesses from 10,000 tries.  Then compute the average of guesses per try based on the 10,000 tries.\n",
    "Repeat the previous two steps with 1,000,000 instead of 1,000 (max number)\n",
    "Output \n",
    "Display the total and average of guesses from 10,000 tries one for 1,000 and the other for 1,000,000 max number"
   ]
  },
  {
   "cell_type": "markdown",
   "metadata": {},
   "source": [
    "https://www.geeksforgeeks.org/python-program-for-binary-search/"
   ]
  },
  {
   "cell_type": "code",
   "execution_count": 1,
   "metadata": {},
   "outputs": [],
   "source": [
    "#Libraries to import\n",
    "\n",
    "from timeit import default_timer as timer\n",
    "import random as r\n",
    "import math"
   ]
  },
  {
   "cell_type": "code",
   "execution_count": 2,
   "metadata": {},
   "outputs": [
    {
     "name": "stdout",
     "output_type": "stream",
     "text": [
      "89837\n",
      "8.9837\n",
      "9\n",
      "\n",
      "\n",
      "189652\n",
      "18.9652\n",
      "19\n"
     ]
    }
   ],
   "source": [
    "def guessNumber(n):\n",
    "    count=0\n",
    "    for i in range(10000): #We need to repeat this step for 10,000 times and sum up the total number of guesses.\n",
    "         # to keep the count of number of guesses\n",
    "        low=1\n",
    "        high=n #1000\n",
    "        x= r.randint(1,n)\n",
    "        #here we will use binary search logic of splitting the list of elements, narrow it down to find the element\n",
    "        while(low<=high): #as long this condition is true\n",
    "            mid=(low+high)//2 #absolute value\n",
    "            count+=1 # increase the counter whenever a guess is made\n",
    "            if mid== x: #if we find the number at mid then we break\n",
    "                break\n",
    "            # If x is greater, ignore left half \n",
    "            elif mid<x:\n",
    "                low= mid+1\n",
    "            #if x is smaller, ignore the right half\n",
    "            else:\n",
    "                    high= mid-1\n",
    "    print(count)\n",
    "    \n",
    "    average=(count/10000)\n",
    "    avgp= math.ceil(average)\n",
    "    print(average)\n",
    "    print(avgp)\n",
    "    \n",
    "\n",
    "if __name__ == \"__main__\":\n",
    "        guessNumber(1000)\n",
    "        print(\"\\n\")\n",
    "        guessNumber(1000000)\n",
    "\n",
    "    "
   ]
  },
  {
   "cell_type": "markdown",
   "metadata": {},
   "source": [
    "# Problem Statement 2 :"
   ]
  },
  {
   "cell_type": "markdown",
   "metadata": {},
   "source": [
    "1) Write a function \"timeEfficiency()\" :\n",
    "\n",
    "It takes a function as an input argument and execute the function.\n",
    "Prints out 1) start time, 2) end time, and then 3) time taken to execute the specified function\n",
    "2) To test timeEfficiency() function, you also write a test function listPrimeNumbers(theMaxNum), which takes an integer (theMaxNum) and list all prime numbers between 0 and theMaxNum sent to the function. \n",
    "3) Next, write a test driver which asks the user to enter a number to be passed to listPrimeNumbers() function.  The test driver calls timeEfficiency() function with the arguments of  listPrimeNumbers function and the MaxNum to measure the time efficiency of listPrimeNumbers() function.\n",
    "4) Expected output"
   ]
  },
  {
   "cell_type": "code",
   "execution_count": 3,
   "metadata": {},
   "outputs": [
    {
     "name": "stdout",
     "output_type": "stream",
     "text": [
      "70\n",
      "70\n"
     ]
    }
   ],
   "source": [
    "a = int(input()) #Declared outside because it will take less time to execute\n",
    "print(a)"
   ]
  },
  {
   "cell_type": "code",
   "execution_count": 4,
   "metadata": {},
   "outputs": [
    {
     "name": "stdout",
     "output_type": "stream",
     "text": [
      "\n",
      " Start time :  5.6624066\n",
      "2 3 5 7 11 13 17 19 23 29 31 37 41 43 47 53 59 61 67 \n",
      " End Time :  5.6632317\n",
      "\n",
      " Time Taken : 0.0008251000000001341\n",
      "\n",
      " Execution Time : 0.0008251000000001341\n"
     ]
    }
   ],
   "source": [
    "def listPrimeNumbers(a):\n",
    "  for num in range(a):\n",
    "    if num > 1:\n",
    "        \n",
    "       for i in range(2,num): #running the prime numberl logic between 2 to entered number\n",
    "           if (num % i) == 0:\n",
    "            break\n",
    "       else:\n",
    "           print(num,end=' ')\n",
    "\n",
    "#listPrimeNumbers(a)\n",
    "\n",
    "def timeEfficency(listPrimeNumbers):\n",
    "  #since the listPrimeNumbers has print statements in it, time measured might depend on terminal you use.\n",
    "  #https://stackoverflow.com/questions/1622943/timeit-versus-timing-decorator\n",
    "\n",
    "  start = timer()\n",
    "  print(\"\\n Start time : \",start)\n",
    "  listPrimeNumbers(a)\n",
    "  end = timer()\n",
    "  print(\"\\n End Time : \", end)\n",
    "  print(\"\\n Time Taken :\", end-start )\n",
    "\n",
    "  print(\"\\n Execution Time :\",end - start)\n",
    "\n",
    "timeEfficency(listPrimeNumbers)"
   ]
  },
  {
   "cell_type": "markdown",
   "metadata": {},
   "source": [
    "-🌻 For this problem,I did not used time.clock to compare the speed of the functions because they can give misleading results as  the behaviour of this function depends on the platform. also including print statements takes extra time"
   ]
  },
  {
   "cell_type": "markdown",
   "metadata": {},
   "source": [
    "# Problem Statement 3:"
   ]
  },
  {
   "cell_type": "markdown",
   "metadata": {},
   "source": [
    "1) Write a code executing the following:\n",
    "\n",
    "a) randomly generate three numbers [0..9] (*** the order among three numbers matters ***)\n",
    "b) continuously guess all three numbers until all three numbers are guessed correctly.  See below for two different ways of guessing 3 random numbers.\n",
    "c) keep track of the number of guesses\n",
    "d) repeat the steps a) - c)  x number of times, where x should be at least 10,0000 in an outer loop\n",
    "\n",
    "2) For the algorithm of guessing 3 random numbers in [0 .. 9], you are required to use following two algorithms.\n",
    "\n",
    "a) Deterministic but brute-force algorithm:\n",
    "     It generates all the permutations of 3 numbers in a deterministic way and compare each permutation of 3 numbers against 3 random numbers until a set of 3 correct numbers are guessed.  You may keep track of the numbers of guesses for each try.  Make sure your program guess each set of 3 numbers only once.\n",
    "\n",
    "      What would be the average number of guesses per try ? Try to guess before you write your program and check it against your simulation results.\n",
    "\n",
    "b) Pure random algorithm\n",
    "      This algorithm will not use any prior information to guess the numbers.  Each iteration, it does a fresh new guess for three new numbers randomly from the scratch and then it check if the numbers are correct.  If they are incorrect, it repeats the same process until the correct numbers are guessed\n",
    "\n",
    "      Theoretically the upper bound of the number of guesses of this algorithm is unlimited.   So your program may stop guessing when the number of guesses reaches at a certain max number (say 10,000) in a try.  You may record and display the number of such bailed-out cases if happens.\n",
    "\n",
    "What would be the average number of guesses per try?  Try to guess before you write your program and check it against your simulation results.\n",
    "\n",
    "3) Expected outputs:\n",
    "\n",
    "a) Deterministic brute-force algorithm:\n",
    "\n",
    "Number of Tries: 10000\n",
    "Highest number of guess in a try: 998\n",
    "Lowest Tries: 3\n",
    "Number of Correct Tries: 10000\n",
    "Average number of tries: xxx.xx\n",
    "\n",
    "b) Complete pure random algorithm\n",
    "\n",
    "Number of Tries: 10000\n",
    "Highest number of guess in a try: 8944\n",
    "Lowest Tries: 1\n",
    "Number of Correct Tries: 10000\n",
    "Average number of tries:  xxx.xx\n",
    "\n",
    "4) This exercise may give some ideas on the difference between the randomized algorithm (we will learn it later) and the brute-force algorithm."
   ]
  },
  {
   "cell_type": "code",
   "execution_count": 5,
   "metadata": {},
   "outputs": [
    {
     "name": "stdout",
     "output_type": "stream",
     "text": [
      "a) Deterministic brute-force algorithm:\n",
      "\n",
      "Number of Tries: 10000\n",
      "Highest number of guess in a try:  1000\n",
      "Lowest Tries:  991\n",
      "Number of Correct Tries:  10000\n",
      "Average number of tries:  995.5253\n",
      "\n",
      "\n",
      "b) Complete pure random algorithm:\n",
      "\n",
      "Number of Tries: 10000\n",
      "Highest number of guess in a try:  36\n",
      "Lowest Tries:  1\n",
      "Number of Correct Tries:  10000\n",
      "Average number of tries:  3.7074\n"
     ]
    }
   ],
   "source": [
    "#Libraries to import\n",
    "\n",
    "\n",
    "from timeit import default_timer as timer\n",
    "import random as r\n",
    "import math\n",
    "\n",
    "def fun():\n",
    "    num1= r.randint(0,9) #random number generation\n",
    "    num2= r.randint(0,9)\n",
    "    num3= r.randint(0,9)\n",
    "\n",
    "    # Determinstic Algorithm\n",
    "   \n",
    "    cntGuessD = 0 \n",
    "    for i in range(10):\n",
    "        for j in range(10):\n",
    "            for k in range(10):\n",
    "                cntGuessD+=1            \n",
    "                if i==num1 and j==num2 and k==num3:  #checking until 3 values are equal at same time\n",
    "                    break\n",
    "                    \n",
    "    # Pure Random Algorithm\n",
    "                    \n",
    "    n1 = r.randint(0,9) #generating 3 random numbers\n",
    "    n2 = r.randint(0,9)\n",
    "    n3 = r.randint(0,9)\n",
    "    \n",
    "    cntGuessR = 1\n",
    "    \n",
    "    while(n1 != num1 and n2 != num2 and n3 != num3):\n",
    "        n1 = r.randint(0,9)\n",
    "        n2 = r.randint(0,9)\n",
    "        n3 = r.randint(0,9)\n",
    "        cntGuessR+=1       \n",
    "        \n",
    "                    \n",
    "    return (cntGuessD , cntGuessR) #return the guesses for determinstic and random algo\n",
    "\n",
    "totalGuessD =0   #set it to zer0\n",
    "totalGuessR =0\n",
    "\n",
    "maxTryD = -1000000000000\n",
    "minTryD =  1000000000000\n",
    "\n",
    "maxTryR = -1000000000000\n",
    "minTryR =  1000000000000\n",
    "\n",
    "for i in range(1, 10001):\n",
    "    a ,b = fun()\n",
    "#     print(a)\n",
    "#     print(b)\n",
    "       # use of min-max theorm \n",
    "    maxTryD = max(maxTryD , a)\n",
    "    minTryD = min(minTryD , a)\n",
    "    maxTryR = max(maxTryR , b)\n",
    "    minTryR = min(minTryR , b)\n",
    "    totalGuessD+=a\n",
    "    totalGuessR+=b\n",
    "    \n",
    "\n",
    "avgGuessD = totalGuessD/10000\n",
    "avgGuessR = totalGuessR/10000\n",
    "\n",
    "print(\"a) Deterministic brute-force algorithm:\\n\")\n",
    "print(\"Number of Tries: 10000\")\n",
    "print(\"Highest number of guess in a try: \" , maxTryD)\n",
    "print(\"Lowest Tries: \" , minTryD)\n",
    "print(\"Number of Correct Tries: \", 10000)\n",
    "print(\"Average number of tries: \" ,avgGuessD )\n",
    "print(\"\\n\")\n",
    "\n",
    "print(\"b) Complete pure random algorithm:\\n\")\n",
    "print(\"Number of Tries: 10000\")\n",
    "print(\"Highest number of guess in a try: \" , maxTryR)\n",
    "print(\"Lowest Tries: \" , minTryR)\n",
    "print(\"Number of Correct Tries: \", 10000)\n",
    "print(\"Average number of tries: \" ,avgGuessR )\n",
    "\n",
    "\n",
    "                \n"
   ]
  },
  {
   "cell_type": "markdown",
   "metadata": {},
   "source": [
    "# 💥 It takes about 3 minutes to run when I use 1000000"
   ]
  },
  {
   "cell_type": "markdown",
   "metadata": {},
   "source": [
    "# Problem 4 "
   ]
  },
  {
   "cell_type": "markdown",
   "metadata": {},
   "source": [
    "Write a program which takes any text file and displays top ‘n’ number of words in descending order of occurrences (case insensitive) in the file. \n",
    "\n",
    "I've tried it and came up with about 10 lines of code (without including empty lines , just one command per line) to complete.  Even with that, I think there is some room to improve.\n",
    "\n",
    "Sample text files:  Lincoln.txt,Preview the document Kennedy.txt,Preview the document King.txtPreview the document\n",
    "\n",
    "An expected output is shown below:\n",
    "\n",
    "NOTE: Don't sweat if the number of frequencies are off a little bit.  The result may not be the same because it depends on the definition of the set of valid alphabets. and white space especially handling special characters.  I'll leave it up to you how you decide those rules.\n",
    "\n",
    "Enter file a file name: Kennedy.txt"
   ]
  },
  {
   "cell_type": "markdown",
   "metadata": {},
   "source": [
    "# 🌻 Please replace the file name below in ('King.txt') and import the test .txt files"
   ]
  },
  {
   "cell_type": "code",
   "execution_count": 6,
   "metadata": {},
   "outputs": [
    {
     "name": "stdout",
     "output_type": "stream",
     "text": [
      "[('the', 100), ('of', 99), ('to', 60), ('and', 39), ('a', 38), ('be', 32), ('will', 26), ('is', 23), ('that', 23), ('we', 21)]\n"
     ]
    }
   ],
   "source": [
    "from collections import Counter\n",
    "with open(r'King.txt') as f:\n",
    "               p = Counter(f.read().split())\n",
    "               print (p.most_common(10))\n",
    "               "
   ]
  },
  {
   "cell_type": "code",
   "execution_count": 7,
   "metadata": {},
   "outputs": [],
   "source": [
    "\n",
    "        #references:\n",
    "#https://stackoverflow.com/questions/50493838/fastest-way-to-sort-a-python-3-7-dictionary\n",
    "#https://stackoverflow.com/questions/613183/how-do-i-sort-a-dictionary-by-value\n",
    "#https://stackoverflow.com/questions/3594514/how-to-find-most-common-elements-of-a-list?noredirect=1&lq=1"
   ]
  },
  {
   "cell_type": "markdown",
   "metadata": {},
   "source": [
    "# Extra credit Program (5 points)"
   ]
  },
  {
   "cell_type": "markdown",
   "metadata": {},
   "source": [
    "Decorator pattern allows a user to add new functionality to an existing object without altering its structure. This type of design pattern comes under structural pattern as this pattern acts as a wrapper to existing class.\n",
    "\n",
    "- Research on Python decorators. There are many good sample codes out there with extensive tutorial articles/videos regarding the decorator topic. Here are the ones that I like:\n",
    "\n",
    "Reading: https://realpython.com/primer-on-python-decorators/ (Links to an external site.)  (Read to the point of Fancy Decorators, you may save the second part for later reading after you get more used to basic decorators) \n",
    "Videos : https://realpython.com/courses/python-decorators-101/ (Links to an external site.)\n",
    "From Python doc:  https://www.python.org/dev/peps/pep-0318/ (Links to an external site.)\n",
    "A student from last Spring semester founds this Youtube video is helpful: \n",
    "https://www.youtube.com/watch?v=r7Dtus7N4pI&feature=youtu.be (Links to an external site.)\n",
    "\n",
    " (Links to an external site.)- Re-implement timeEfficiency() function using decorators and test it with listPrimeNumber program.  (NOTE: You need to submit both implementations - initial one and decorators one)"
   ]
  },
  {
   "cell_type": "markdown",
   "metadata": {},
   "source": [
    "### Defination:\n",
    "  - 🦜takes a function as an argument\n",
    "  - 🦜 returns a closure\n",
    "  - 🦜closure usually accepts any combination of parameters\n",
    "  - 🦜 runs some code in inner function(closure)\n",
    "  - 🦜 the closure function calls the origional function using arguements passed to the closure\n",
    "  - 🦜 returns whatver is returned by that function call"
   ]
  },
  {
   "cell_type": "code",
   "execution_count": 8,
   "metadata": {},
   "outputs": [
    {
     "name": "stdout",
     "output_type": "stream",
     "text": [
      "70\n",
      "70\n"
     ]
    }
   ],
   "source": [
    "a1 = int(input())\n",
    "print(a1)"
   ]
  },
  {
   "cell_type": "code",
   "execution_count": 9,
   "metadata": {},
   "outputs": [
    {
     "name": "stdout",
     "output_type": "stream",
     "text": [
      "\n",
      " Start time :  11.8796984\n",
      "2 3 5 7 11 13 17 19 23 29 31 37 41 43 47 53 59 61 67 \n",
      " End Time :  11.8811803\n",
      "\n",
      " Time Taken : 0.001481899999999925\n",
      "\n",
      " Execution Time : 0.001481899999999925\n"
     ]
    }
   ],
   "source": [
    "\n",
    "\n",
    "#listPrimeNumbers(a1)\n",
    "\n",
    "def timeEfficency(listPrimeNumbers):\n",
    "  #since the listPrimeNumbers has print statements in it, time measured might depend on terminal you use.\n",
    "  #https://stackoverflow.com/questions/1622943/timeit-versus-timing-decorator\n",
    "    \n",
    "    \n",
    "    \"\"\"set up a decorator function for timing\"\"\"\n",
    "    def wrapper(*arg):\n",
    "      start = timer()\n",
    "      print(\"\\n Start time : \",start)\n",
    "      res=listPrimeNumbers(*arg)\n",
    "      end = timer()\n",
    "      print(\"\\n End Time : \", end)\n",
    "      print(\"\\n Time Taken :\", end-start )\n",
    "      print(\"\\n Execution Time :\",end - start)\n",
    "      return res\n",
    "    return wrapper\n",
    "    \n",
    "\n",
    "    \n",
    "@timeEfficency   \n",
    "def listPrimeNumbers(a1):\n",
    "  for num in range(a1):\n",
    "    if num > 1:\n",
    "       for i in range(2, num): #running the prime numberl logic between 2 to entered number\n",
    "           if (num % i) == 0:\n",
    "               break\n",
    "       else:\n",
    "           print(num,end=' ')\n",
    "            \n",
    "listPrimeNumbers(a1)\n"
   ]
  },
  {
   "cell_type": "markdown",
   "metadata": {},
   "source": [
    "# Extra Credit:"
   ]
  },
  {
   "cell_type": "markdown",
   "metadata": {},
   "source": [
    "Answer the following questions in the Python decorator context.  Your answers should be written  in a Markdown file. The quality of answers matters!!   Do your own research to answer these questions and answer them as complete as possible.\n",
    "\n",
    "- 💪What is higher-order function and how it is different from functor? \n",
    "- 💪What are First-class objects?  What is the significance of functions being First-class objects? \n",
    "- 💪What are inner functions?  Why is the major benefit of inner functions and why is it important for decorator \n",
    "- 💪Why @ symbol  is called syntactic sugar?  What's the biggest advantage of using it when decorators are used? \n",
    "- 💪How would it help Python's weak encapsulation of Class?   (Hint: google \"Python @Property decorator\")"
   ]
  },
  {
   "cell_type": "markdown",
   "metadata": {},
   "source": [
    "### What is higher-order function and how it is different from functor? "
   ]
  },
  {
   "cell_type": "markdown",
   "metadata": {},
   "source": [
    "#Trying to use decorator to explain the difference between higher order function and functor\n",
    "#if you think decorator is higher order fucntion or if its functor???\n",
    "\n",
    "A higher order function contains other functions as parameter or returns a function as an output.\n",
    "- 🦜Function is instance of the object type\n",
    "- 🦜We can store function in a variable\n",
    "- 🦜we can pass the function as parameter to another function\n",
    "- 🦜We can return a function from a function \n",
    "- 🦜We can store them in lists,dictonaries etc\n",
    "\n",
    "**Decorators make most use of higher order functions .We can modify the behavior of the function or class. As we saw in the problem above with decorators we can wrap another function in order to extend the behavior of the wrapped function, without modifying the function.Decorators take functions as arguement into another function and then are called inside the wrapper function.**\n",
    "Since python allows passing functions as values a functor is basically an object which is a function.One of the key difference of functor is that **it can maintain some sort of state information.** For example:"
   ]
  },
  {
   "cell_type": "code",
   "execution_count": null,
   "metadata": {},
   "outputs": [],
   "source": [
    "class Accumulator(object):\n",
    "    '''\n",
    "    remembers self.n\n",
    "     __call__() allows the class instance to be called as a function\n",
    "    '''\n",
    "    def __init__(self, n=0):\n",
    "        self.n = n\n",
    "    def __call__(self, x):\n",
    "        self.n += x\n",
    "        return self.n"
   ]
  },
  {
   "cell_type": "code",
   "execution_count": null,
   "metadata": {},
   "outputs": [],
   "source": [
    "acc = Accumulator(4) #creating an instance and intialzing it to 4"
   ]
  },
  {
   "cell_type": "code",
   "execution_count": null,
   "metadata": {},
   "outputs": [],
   "source": [
    "# remembers 4 and adds 5 : mainting state information\n",
    "print(acc(5))  "
   ]
  },
  {
   "cell_type": "code",
   "execution_count": null,
   "metadata": {},
   "outputs": [],
   "source": [
    "# remembers 9 and adds 2\n",
    "print(acc(2))  "
   ]
  },
  {
   "cell_type": "code",
   "execution_count": null,
   "metadata": {},
   "outputs": [],
   "source": [
    "# a bit more complex\n",
    "print(acc(acc(10)))   "
   ]
  },
  {
   "cell_type": "markdown",
   "metadata": {},
   "source": [
    "Above can be done using a plain fuction but if we need to store bit more state or perform more complex\n",
    "processing a functor i often the right solution."
   ]
  },
  {
   "cell_type": "markdown",
   "metadata": {},
   "source": [
    " ### What are First-class objects?  What is the significance of functions being First-class objects? "
   ]
  },
  {
   "cell_type": "markdown",
   "metadata": {},
   "source": [
    "Functions are first class objects(first class citizens) because they can have  because they can have properties and methods just like any other object. What distinguishes them from other objects is that functions can be called.That means that you can use functions as arguments to other functions, store functions as dictionary values, or return a function from another function. This leads to many powerful ways to use functions."
   ]
  },
  {
   "cell_type": "code",
   "execution_count": null,
   "metadata": {},
   "outputs": [],
   "source": [
    "def square(x):\n",
    "    \"\"\"Square of x.\"\"\"\n",
    "    return x*x\n",
    "\n",
    "def cube(x):\n",
    "    \"\"\"Cube of x.\"\"\"\n",
    "    return x*x*x\n",
    "# create a dictionary of functions\n",
    "\n"
   ]
  },
  {
   "cell_type": "code",
   "execution_count": null,
   "metadata": {},
   "outputs": [],
   "source": [
    "cube(3)"
   ]
  },
  {
   "cell_type": "code",
   "execution_count": null,
   "metadata": {},
   "outputs": [],
   "source": [
    "# create a dictionary of functions\n",
    "\n",
    "funcs = {\n",
    "    'square': square,\n",
    "    'cube': cube,\n",
    "}"
   ]
  },
  {
   "cell_type": "code",
   "execution_count": null,
   "metadata": {},
   "outputs": [],
   "source": [
    "x = 2"
   ]
  },
  {
   "cell_type": "code",
   "execution_count": null,
   "metadata": {},
   "outputs": [],
   "source": [
    "print (square(x))\n",
    "print (cube(x))\n",
    "\n",
    "for func in sorted(funcs):\n",
    "    print (func, funcs[func](x))"
   ]
  },
  {
   "cell_type": "markdown",
   "metadata": {},
   "source": [
    "- 🦜With functions being first-class objects within Python, its significance is that we are able to do all kinds of interesting things and explore all sorts of programming paradigms that wouldn’t be otherwise be possible. It is in part due to this functional first-classness that Python has become the powerful and prolific language that it is today."
   ]
  },
  {
   "cell_type": "markdown",
   "metadata": {},
   "source": [
    "### What are inner functions?  Why is the major benefit of inner functions and why is it important for decorator "
   ]
  },
  {
   "cell_type": "markdown",
   "metadata": {},
   "source": [
    "A function which is defined inside another function is known as inner function or nested function. Nested functions are able to access variables of the enclosing scope. Inner functions are used so that they can be protected from everything happening outside the function. This process is also known as Encapsulation.Example:\n",
    "https://www.geeksforgeeks.org/python-inner-functions/"
   ]
  },
  {
   "cell_type": "code",
   "execution_count": null,
   "metadata": {},
   "outputs": [],
   "source": [
    "def outer_func():\n",
    "    def inner_func():\n",
    "        print(\"Running inner\")\n",
    "    inner_func()\n",
    "\n",
    "outer_func()\n",
    "# Prints Running inner"
   ]
  },
  {
   "cell_type": "markdown",
   "metadata": {},
   "source": [
    "### Why @ symbol  is called syntactic sugar?  What's the biggest advantage of using it when decorators are used? "
   ]
  },
  {
   "cell_type": "markdown",
   "metadata": {},
   "source": [
    "@ Symbol is called syntatic sugar becasue it makes things easier to read or to express. It makes the language \"sweeter\" for human use.things can be expressed more clearly, more concisely, or in an alternative style that some may prefer.There are several advantages of using @ as decorators :\n",
    "1. 🦜Like we saw in example above it can be used to check timing purposes\n",
    "2. 🦜When I have a lot of functions f1, f2, f3, ... and you want a regular way to make the same change to all of them to do the same extra work.that is when @ decorators are useful. That is to say, functions that take a function and return a modified version of it.The decorator @ syntax is \"just\" for convenience. It lets you decorate the function as it is define:\n"
   ]
  },
  {
   "cell_type": "code",
   "execution_count": null,
   "metadata": {},
   "outputs": [],
   "source": [
    "def my_decorator(my_function):\n",
    "    def inner_decorator():\n",
    "        print(\"This happened before!\")\n",
    "        my_function()\n",
    "        print(\"This happens after \")\n",
    "        print(\"This happened at the end!\")\n",
    "    return inner_decorator\n",
    " \n",
    "def my_decorated():\n",
    "    print(\"This happened!\")\n",
    " \n",
    "var = my_decorator(my_decorated)\n",
    " \n",
    "if __name__ == '__main__':\n",
    "    var()"
   ]
  },
  {
   "cell_type": "markdown",
   "metadata": {},
   "source": [
    "- 🦜Here, my_decorator() is a decorator and is used to decorate my_decorated(). But rather than calling the decorator function my_decorator() with the argument my_decorated(), the above code can be syntactically sugar-coated as below:"
   ]
  },
  {
   "cell_type": "code",
   "execution_count": null,
   "metadata": {},
   "outputs": [],
   "source": [
    "def my_decorator(my_function):\n",
    "    def inner_decorator():\n",
    "        print(\"This happened before!\")\n",
    "        my_function()\n",
    "        print(\"This happens after \")\n",
    "        print(\"This happened at the end!\")\n",
    "    return inner_decorator\n",
    " \n",
    "@my_decorator\n",
    "def my_decorated():\n",
    "    print(\"This happened!\")\n",
    " \n",
    "if __name__ == '__main__':\n",
    "    my_decorated()"
   ]
  },
  {
   "cell_type": "markdown",
   "metadata": {},
   "source": [
    "### How would it help Python's weak encapsulation of Class?   (Hint: google \"Python @Property decorator\")"
   ]
  },
  {
   "cell_type": "markdown",
   "metadata": {},
   "source": [
    "The @property decorator is a built-in decorator in Python for the property() function. Use @property decorator on any method in the class to use the method as a property.\n",
    "\n",
    "You can use the following three decorators to define a property:\n",
    "\n",
    "1. -🦜@property: Declares the method as a property.\n",
    "2. -🦜@<property-name>.setter: Specifies the setter method for a property that sets the value to a property.\n",
    "3. -🦜@<property-name>.deleter: Specifies the delete method as a property that deletes a property."
   ]
  },
  {
   "cell_type": "code",
   "execution_count": null,
   "metadata": {},
   "outputs": [],
   "source": [
    "class Algorithms:\n",
    "\n",
    "    def __init__(self, professor):\n",
    "        self.__professor = professor\n",
    "\n",
    "    @property\n",
    "    def professor(self):\n",
    "        return self.__professor"
   ]
  },
  {
   "cell_type": "markdown",
   "metadata": {},
   "source": [
    "- 🦜Above, @property decorator applied to the professor() method. The professor() method returns the private instance attribute value __professor. So, we can now use the professor() method as a property to get the value of the __professor attribute, as shown below."
   ]
  },
  {
   "cell_type": "code",
   "execution_count": null,
   "metadata": {},
   "outputs": [],
   "source": [
    "p = Algorithms('Sung Nam')\n",
    "p.professor \n"
   ]
  },
  {
   "cell_type": "markdown",
   "metadata": {},
   "source": [
    "## setter"
   ]
  },
  {
   "cell_type": "markdown",
   "metadata": {},
   "source": [
    "### Deleter"
   ]
  },
  {
   "cell_type": "code",
   "execution_count": null,
   "metadata": {},
   "outputs": [],
   "source": [
    "class Algorithms:\n",
    "    def __init__(self,professor):\n",
    "        self.__professor = professor\n",
    "\n",
    "    @property\n",
    "    def professor(self):\n",
    "        return self.__professor\n",
    "    \n",
    "    @professor.setter\n",
    "    def professor(self, value):\n",
    "        self.__professor=value\n",
    "    \n",
    "    @professor.deleter   #property-name.deleter decorator\n",
    "    def professor(self, value):\n",
    "        print('Deleting..')\n",
    "        del self.__professor"
   ]
  },
  {
   "cell_type": "code",
   "execution_count": null,
   "metadata": {},
   "outputs": [],
   "source": [
    "s=Algorithms(\"Sung Nam\")"
   ]
  },
  {
   "cell_type": "code",
   "execution_count": null,
   "metadata": {},
   "outputs": [],
   "source": [
    "s.professor"
   ]
  },
  {
   "cell_type": "code",
   "execution_count": null,
   "metadata": {},
   "outputs": [],
   "source": [
    "s.professor=\"Sung Nam 2\" #setter"
   ]
  },
  {
   "cell_type": "code",
   "execution_count": null,
   "metadata": {},
   "outputs": [],
   "source": [
    "print(s.professor)"
   ]
  },
  {
   "cell_type": "code",
   "execution_count": null,
   "metadata": {},
   "outputs": [],
   "source": [
    "del s.professor #deleting (error on purpose)"
   ]
  },
  {
   "cell_type": "markdown",
   "metadata": {},
   "source": [
    "The @classmethod decorator can be applied on any method of a class. This decorator will allow us to call that method using the class name instead of the object."
   ]
  },
  {
   "cell_type": "code",
   "execution_count": null,
   "metadata": {},
   "outputs": [],
   "source": []
  }
 ],
 "metadata": {
  "kernelspec": {
   "display_name": "Python 3",
   "language": "python",
   "name": "python3"
  },
  "language_info": {
   "codemirror_mode": {
    "name": "ipython",
    "version": 3
   },
   "file_extension": ".py",
   "mimetype": "text/x-python",
   "name": "python",
   "nbconvert_exporter": "python",
   "pygments_lexer": "ipython3",
   "version": "3.8.5"
  }
 },
 "nbformat": 4,
 "nbformat_minor": 4
}
